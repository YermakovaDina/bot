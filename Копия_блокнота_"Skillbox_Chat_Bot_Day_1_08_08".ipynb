{
  "nbformat": 4,
  "nbformat_minor": 0,
  "metadata": {
    "colab": {
      "name": "Копия блокнота \"Skillbox Chat Bot Day 1: 08/08\"",
      "provenance": [],
      "collapsed_sections": [],
      "include_colab_link": true
    },
    "kernelspec": {
      "name": "python3",
      "display_name": "Python 3"
    },
    "language_info": {
      "name": "python"
    }
  },
  "cells": [
    {
      "cell_type": "markdown",
      "metadata": {
        "id": "view-in-github",
        "colab_type": "text"
      },
      "source": [
        "<a href=\"https://colab.research.google.com/github/YermakovaDina/bot/blob/main/%D0%9A%D0%BE%D0%BF%D0%B8%D1%8F_%D0%B1%D0%BB%D0%BE%D0%BA%D0%BD%D0%BE%D1%82%D0%B0_%22Skillbox_Chat_Bot_Day_1_08_08%22.ipynb\" target=\"_parent\"><img src=\"https://colab.research.google.com/assets/colab-badge.svg\" alt=\"Open In Colab\"/></a>"
      ]
    },
    {
      "cell_type": "markdown",
      "source": [
        "# День 1\n",
        "*   Язык Python\n",
        "*   Архитектура чат ботов"
      ],
      "metadata": {
        "id": "ppsIrKbyJDTJ"
      }
    },
    {
      "cell_type": "markdown",
      "source": [
        "# ВЕРСИЯ 1\n",
        "#### Наш первый Чат-бот, поздоровайтесь\n",
        "`{Вопрос на входе}` => `{Алгоритм ответа}` => `{Ответ на выходе}`\n",
        "\n",
        "---\n",
        "Простейший алгоритм — это поиск по базе известных вопросов и ответов.\n"
      ],
      "metadata": {
        "id": "mW1tlQcAJRmA"
      }
    },
    {
      "cell_type": "code",
      "source": [
        "import random"
      ],
      "metadata": {
        "id": "jHwSOC-8InIo"
      },
      "execution_count": null,
      "outputs": []
    },
    {
      "cell_type": "code",
      "execution_count": null,
      "metadata": {
        "colab": {
          "base_uri": "https://localhost:8080/"
        },
        "id": "ePQvZ6EHH75B",
        "outputId": "3ba592e3-e2d6-4a3e-873b-c00745bcd80e"
      },
      "outputs": [
        {
          "output_type": "stream",
          "name": "stdout",
          "text": [
            "Hello\n",
            "Не понял\n"
          ]
        }
      ],
      "source": [
        "text = input()\n",
        "if text in [\"Привет\", \"Здарова\", \"Хеллоу\"]:\n",
        "  print(random.choice([\"Здрасте\", \"Йоу\", \"Приветики\"]))\n",
        "elif text in [\"Пока\", \"Увидимся\", \"Чао\"]:\n",
        "  print(random.choice([\"Буду ждать нашей встречи\", \"Ок\", \"Бай-бай\"]))\n",
        "else:\n",
        "  print(\"Не понял\")\n",
        "\n",
        "\n",
        "# input = ввод данных от пользователя\n",
        "# random.choice = выбор случайного элемента из списка\n",
        "# print = вывод на экран"
      ]
    },
    {
      "cell_type": "markdown",
      "source": [
        "# Алгоритм ответа\n",
        "1.   Если вопрос это что-то типа \"*Привет*\" или \"*Здарова*\" ну или там \"*Хеллоу*\"\n",
        "2.   То ответить случайной фразой вроде \"**Йоу**\", \"**Приветики**\" или \"**Здрасте**\""
      ],
      "metadata": {
        "id": "tysEo2EaLV9V"
      }
    },
    {
      "cell_type": "markdown",
      "source": [
        "# Определение \"намерения\" пользователя (англ. intent, интент)"
      ],
      "metadata": {
        "id": "Ue7KMxxnCRty"
      }
    },
    {
      "cell_type": "code",
      "source": [
        "# Составим карты \"намерений\", которые поддерживает наш бот\n",
        "INTENTS = {\n",
        "    \"hello\": {\n",
        "        \"examples\": [],\n",
        "        \"response\": [],\n",
        "    }\n",
        "}"
      ],
      "metadata": {
        "id": "m1Y2iyVSCFLx"
      },
      "execution_count": null,
      "outputs": []
    },
    {
      "cell_type": "markdown",
      "source": [
        "Сложность — в том чтобы сравнить **Текст Пользователя** и текст в программе."
      ],
      "metadata": {
        "id": "26m8fK1GN4m3"
      }
    },
    {
      "cell_type": "code",
      "source": [
        "def text_match(user_text, example):\n",
        "  # Задание\n",
        "  # Дописать функцию так, чтобы все примеры ниже работали\n",
        "  return user_text == example"
      ],
      "metadata": {
        "id": "v68CYBmmMwwu"
      },
      "execution_count": null,
      "outputs": []
    },
    {
      "cell_type": "code",
      "source": [
        "# Тексты совпадают\n",
        "text_match(\"Привет\", \"Привет\")  "
      ],
      "metadata": {
        "colab": {
          "base_uri": "https://localhost:8080/"
        },
        "id": "Y_v5venhNDey",
        "outputId": "2a269484-7c3a-4210-9ef2-8c7ef047c962"
      },
      "execution_count": null,
      "outputs": [
        {
          "output_type": "execute_result",
          "data": {
            "text/plain": [
              "True"
            ]
          },
          "metadata": {},
          "execution_count": 25
        }
      ]
    },
    {
      "cell_type": "code",
      "source": [
        "# Разный регистр (ToDo: lower)\n",
        "text_match(\"привет\", \"Привет\")"
      ],
      "metadata": {
        "colab": {
          "base_uri": "https://localhost:8080/"
        },
        "id": "mCkXZGN7NCxm",
        "outputId": "9a152f8d-2184-4c66-8320-6e1dba15c8e0"
      },
      "execution_count": null,
      "outputs": [
        {
          "output_type": "execute_result",
          "data": {
            "text/plain": [
              "False"
            ]
          },
          "metadata": {},
          "execution_count": 26
        }
      ]
    },
    {
      "cell_type": "code",
      "source": [
        "# Лишние символы (ToDo: regular expressions)\n",
        "text_match(\"Привет!!!\", \"Привет\")  "
      ],
      "metadata": {
        "colab": {
          "base_uri": "https://localhost:8080/"
        },
        "id": "XyYl1qxJOWfE",
        "outputId": "6434b8c3-7989-46fe-b62c-03e0dd595588"
      },
      "execution_count": null,
      "outputs": [
        {
          "output_type": "execute_result",
          "data": {
            "text/plain": [
              "False"
            ]
          },
          "metadata": {},
          "execution_count": 27
        }
      ]
    },
    {
      "cell_type": "code",
      "source": [
        "# Лишние слова (ToDo: find)\n",
        "text_match(\"Привет, как дела\", \"Привет\")  "
      ],
      "metadata": {
        "colab": {
          "base_uri": "https://localhost:8080/"
        },
        "id": "ElasFTAKOW8g",
        "outputId": "1de3734a-2956-4641-e0f1-ba76d0fadf4f"
      },
      "execution_count": null,
      "outputs": [
        {
          "output_type": "execute_result",
          "data": {
            "text/plain": [
              "False"
            ]
          },
          "metadata": {},
          "execution_count": 28
        }
      ]
    },
    {
      "cell_type": "code",
      "source": [
        "# Опечатки (ToDo: levenstein)\n",
        "text_match(\"Превет\", \"Привет\")"
      ],
      "metadata": {
        "colab": {
          "base_uri": "https://localhost:8080/"
        },
        "id": "d9gU6QhvOY17",
        "outputId": "645b10df-5953-468a-b735-ddd8ccaa7fc2"
      },
      "execution_count": null,
      "outputs": [
        {
          "output_type": "execute_result",
          "data": {
            "text/plain": [
              "False"
            ]
          },
          "metadata": {},
          "execution_count": 30
        }
      ]
    },
    {
      "cell_type": "markdown",
      "source": [
        "# День 2\n"
      ],
      "metadata": {
        "id": "hSSID1qhTRst"
      }
    },
    {
      "cell_type": "markdown",
      "source": [
        "# Классификация текстов ML-моделью\n"
      ],
      "metadata": {
        "id": "pqqsdYVxRC4w"
      }
    },
    {
      "cell_type": "code",
      "source": [
        ""
      ],
      "metadata": {
        "id": "IekZ2-zqRHKH"
      },
      "execution_count": null,
      "outputs": []
    },
    {
      "cell_type": "markdown",
      "source": [
        "# День 3\n",
        "Бот в Телеграм"
      ],
      "metadata": {
        "id": "MMr2mDwFTVeK"
      }
    },
    {
      "cell_type": "code",
      "source": [
        ""
      ],
      "metadata": {
        "id": "9hPPDSAdTYco"
      },
      "execution_count": null,
      "outputs": []
    }
  ]
}